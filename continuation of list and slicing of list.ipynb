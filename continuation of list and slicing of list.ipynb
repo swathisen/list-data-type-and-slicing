{
 "cells": [
  {
   "cell_type": "code",
   "execution_count": null,
   "id": "1017735d",
   "metadata": {},
   "outputs": [],
   "source": [
    "Removing Whitespaces from Strings"
   ]
  },
  {
   "cell_type": "code",
   "execution_count": 7,
   "id": "c5157247",
   "metadata": {},
   "outputs": [
    {
     "name": "stdout",
     "output_type": "stream",
     "text": [
      "python\n"
     ]
    }
   ],
   "source": [
    "name=\"python\"\n",
    "print(name)"
   ]
  },
  {
   "cell_type": "code",
   "execution_count": 4,
   "id": "df5d5689",
   "metadata": {},
   "outputs": [
    {
     "name": "stdout",
     "output_type": "stream",
     "text": [
      "  python\n"
     ]
    }
   ],
   "source": [
    "name2='  python'##leftside gap\n",
    "print(name2)"
   ]
  },
  {
   "cell_type": "code",
   "execution_count": 9,
   "id": "269fb29a",
   "metadata": {},
   "outputs": [
    {
     "name": "stdout",
     "output_type": "stream",
     "text": [
      "python  \n"
     ]
    }
   ],
   "source": [
    "name3='python  '##rightside gap\n",
    "print(name3)"
   ]
  },
  {
   "cell_type": "code",
   "execution_count": null,
   "id": "c4eaf913",
   "metadata": {},
   "outputs": [],
   "source": [
    "###  we have to use (strip) method"
   ]
  },
  {
   "cell_type": "code",
   "execution_count": 10,
   "id": "92c6ea81",
   "metadata": {},
   "outputs": [
    {
     "data": {
      "text/plain": [
       "'python'"
      ]
     },
     "execution_count": 10,
     "metadata": {},
     "output_type": "execute_result"
    }
   ],
   "source": [
    "name2.lstrip()"
   ]
  },
  {
   "cell_type": "markdown",
   "id": "a9999bdf",
   "metadata": {},
   "source": [
    "name3.rstrip()"
   ]
  },
  {
   "cell_type": "code",
   "execution_count": 11,
   "id": "f7305eb7",
   "metadata": {},
   "outputs": [
    {
     "data": {
      "text/plain": [
       "'python'"
      ]
     },
     "execution_count": 11,
     "metadata": {},
     "output_type": "execute_result"
    }
   ],
   "source": [
    "name3.rstrip()"
   ]
  },
  {
   "cell_type": "code",
   "execution_count": 12,
   "id": "f44853bc",
   "metadata": {},
   "outputs": [
    {
     "name": "stdout",
     "output_type": "stream",
     "text": [
      "   python  \n"
     ]
    }
   ],
   "source": [
    "name4='   python  '\n",
    "print(name4)"
   ]
  },
  {
   "cell_type": "code",
   "execution_count": 13,
   "id": "48fb0774",
   "metadata": {},
   "outputs": [
    {
     "data": {
      "text/plain": [
       "'python'"
      ]
     },
     "execution_count": 13,
     "metadata": {},
     "output_type": "execute_result"
    }
   ],
   "source": [
    "name4.strip()"
   ]
  },
  {
   "cell_type": "code",
   "execution_count": null,
   "id": "4c30d139",
   "metadata": {},
   "outputs": [],
   "source": [
    "Introduction to List datatype\n",
    "a. definition\n",
    "collection of items declared in a particular order\n",
    "b. classification:As an mutable data type\n",
    "c. how to define the list...?\n",
    "defined by []"
   ]
  },
  {
   "cell_type": "code",
   "execution_count": 16,
   "id": "bdb97105",
   "metadata": {},
   "outputs": [
    {
     "name": "stdout",
     "output_type": "stream",
     "text": [
      "['anil', 'kumar', 'sreya', 'keerthi']\n"
     ]
    }
   ],
   "source": [
    "students=['anil','kumar','sreya','keerthi']\n",
    "print(students)"
   ]
  },
  {
   "cell_type": "code",
   "execution_count": 17,
   "id": "64cf293f",
   "metadata": {},
   "outputs": [
    {
     "data": {
      "text/plain": [
       "list"
      ]
     },
     "execution_count": 17,
     "metadata": {},
     "output_type": "execute_result"
    }
   ],
   "source": [
    "type(students)     ######to know which data type"
   ]
  },
  {
   "cell_type": "code",
   "execution_count": null,
   "id": "c447e9d5",
   "metadata": {},
   "outputs": [],
   "source": [
    "### req: i want to access keerthi from the above list?\n",
    "\n",
    "how to do?\n",
    "by indexing"
   ]
  },
  {
   "cell_type": "code",
   "execution_count": null,
   "id": "cab0ea66",
   "metadata": {},
   "outputs": [],
   "source": [
    "Introduction to Indexing\n",
    "0,1,2,3,.....n(names will be maintained or assigned from 0,1,2,3,...n)"
   ]
  },
  {
   "cell_type": "code",
   "execution_count": 18,
   "id": "73b01a19",
   "metadata": {},
   "outputs": [
    {
     "name": "stdout",
     "output_type": "stream",
     "text": [
      "kumar\n"
     ]
    }
   ],
   "source": [
    "print(students[1])"
   ]
  },
  {
   "cell_type": "code",
   "execution_count": 19,
   "id": "7cc7a630",
   "metadata": {},
   "outputs": [
    {
     "name": "stdout",
     "output_type": "stream",
     "text": [
      "['anil', 'kumar', 'sreya', 'keerthi']\n"
     ]
    }
   ],
   "source": [
    "print(students)"
   ]
  },
  {
   "cell_type": "code",
   "execution_count": 24,
   "id": "c565ea47",
   "metadata": {},
   "outputs": [
    {
     "name": "stdout",
     "output_type": "stream",
     "text": [
      "['anil', 'kumar', 'sreya', 'keerthi', 'naveen']\n"
     ]
    }
   ],
   "source": [
    "### how to add new elements to the list?\n",
    "#how to modify the elements to the list?\n",
    "#how to delete elements to the list?\n",
    "\n",
    "#  **Method I\n",
    "append\n",
    "#ans: 1. want to add naveen to the list\n",
    "students.append('naveen')\n",
    "print(students)"
   ]
  },
  {
   "cell_type": "code",
   "execution_count": null,
   "id": "10758655",
   "metadata": {},
   "outputs": [],
   "source": [
    "##If I want to add pallavi to second index\n",
    "##we need to follow \n",
    "\n",
    "##method II\n",
    "##Insert"
   ]
  },
  {
   "cell_type": "code",
   "execution_count": 34,
   "id": "66a86d72",
   "metadata": {},
   "outputs": [
    {
     "name": "stdout",
     "output_type": "stream",
     "text": [
      "['anil', 'kumar', 'pallavi', 'sneha', 'pallavi', 'pallavi', 'pallavi', 'pallavi', 'sreya', 'keerthi', 'naveen']\n"
     ]
    }
   ],
   "source": [
    "students.insert(3,\"sneha\")\n",
    "print(students)"
   ]
  },
  {
   "cell_type": "code",
   "execution_count": 35,
   "id": "df3887b4",
   "metadata": {},
   "outputs": [
    {
     "name": "stdout",
     "output_type": "stream",
     "text": [
      "pallavi\n"
     ]
    }
   ],
   "source": [
    "print(students[4])"
   ]
  },
  {
   "cell_type": "code",
   "execution_count": null,
   "id": "63c01c4c",
   "metadata": {},
   "outputs": [],
   "source": [
    "***$$$$ Difference between Insert and append in the list$$$$$$$********\n",
    "\n",
    "ANS:  append: it adds elements at the end\n",
    "      Insert: It add elements where we intend to add(the position first, second, or third)"
   ]
  },
  {
   "cell_type": "code",
   "execution_count": null,
   "id": "c2ad4e60",
   "metadata": {},
   "outputs": [],
   "source": [
    "How to modify elements in a list\n",
    "we can by showing the index\n",
    "if we want to change the sneha to \"meghana\""
   ]
  },
  {
   "cell_type": "code",
   "execution_count": 36,
   "id": "5b050de0",
   "metadata": {},
   "outputs": [
    {
     "name": "stdout",
     "output_type": "stream",
     "text": [
      "['anil', 'kumar', 'pallavi', 'meghana', 'pallavi', 'pallavi', 'pallavi', 'pallavi', 'sreya', 'keerthi', 'naveen']\n"
     ]
    }
   ],
   "source": [
    "students[3]='meghana'\n",
    "print(students)"
   ]
  },
  {
   "cell_type": "code",
   "execution_count": null,
   "id": "d83cf687",
   "metadata": {},
   "outputs": [],
   "source": [
    "How to delete the element in a list?\n",
    "***delete"
   ]
  },
  {
   "cell_type": "code",
   "execution_count": 38,
   "id": "2a18075e",
   "metadata": {},
   "outputs": [
    {
     "name": "stdout",
     "output_type": "stream",
     "text": [
      "['anil', 'pallavi', 'meghana', 'pallavi', 'pallavi', 'pallavi', 'pallavi', 'sreya', 'keerthi', 'naveen']\n"
     ]
    }
   ],
   "source": [
    "del students[1]\n",
    "print(students)"
   ]
  },
  {
   "cell_type": "code",
   "execution_count": null,
   "id": "f539cd17",
   "metadata": {},
   "outputs": [],
   "source": [
    "Continution with list data types\n",
    "\n",
    "Organising the list data type\n"
   ]
  },
  {
   "cell_type": "code",
   "execution_count": 39,
   "id": "2c5bd22d",
   "metadata": {},
   "outputs": [
    {
     "name": "stdout",
     "output_type": "stream",
     "text": [
      "['benz', 'bmw', 'maruthi', 'kia', 'hyundai']\n"
     ]
    }
   ],
   "source": [
    "cars=['benz','bmw','maruthi','kia','hyundai' ]\n",
    "print(cars)"
   ]
  },
  {
   "cell_type": "code",
   "execution_count": null,
   "id": "7daee1e8",
   "metadata": {},
   "outputs": [],
   "source": [
    "# req Iwant toget in alphabitical order?\n",
    "2 approaches\n",
    "1. temporary approach- sorted (we can get the original order of the list assigned initially)\n",
    "2. permanent approach-sort (changes implied permanently)"
   ]
  },
  {
   "cell_type": "code",
   "execution_count": 40,
   "id": "4deaa547",
   "metadata": {},
   "outputs": [
    {
     "name": "stdout",
     "output_type": "stream",
     "text": [
      "['benz', 'bmw', 'hyundai', 'kia', 'maruthi']\n"
     ]
    }
   ],
   "source": [
    "print(sorted(cars)) ## a,b,c,d,  once sorted the list is temporary.    "
   ]
  },
  {
   "cell_type": "code",
   "execution_count": null,
   "id": "6cdfd4f1",
   "metadata": {},
   "outputs": [],
   "source": [
    "whenever the alphabet is same it will go and evaluate the nxt character"
   ]
  },
  {
   "cell_type": "code",
   "execution_count": 41,
   "id": "cd2614c8",
   "metadata": {},
   "outputs": [
    {
     "name": "stdout",
     "output_type": "stream",
     "text": [
      "['benz', 'bmw', 'maruthi', 'kia', 'hyundai']\n"
     ]
    }
   ],
   "source": [
    "print(cars)  ###original list achieved even though it is sorted"
   ]
  },
  {
   "cell_type": "code",
   "execution_count": 44,
   "id": "1d967461",
   "metadata": {},
   "outputs": [
    {
     "name": "stdout",
     "output_type": "stream",
     "text": [
      "['benz', 'bmw', 'hyundai', 'kia', 'maruthi']\n"
     ]
    }
   ],
   "source": [
    "##approach:\n",
    "cars.sort()\n",
    "print(cars)"
   ]
  },
  {
   "cell_type": "code",
   "execution_count": null,
   "id": "bdb4d3a2",
   "metadata": {},
   "outputs": [],
   "source": [
    "## now if we print cars again the changed list will be listed as the sort fuction is permanent"
   ]
  },
  {
   "cell_type": "code",
   "execution_count": 45,
   "id": "1b562a4b",
   "metadata": {},
   "outputs": [
    {
     "name": "stdout",
     "output_type": "stream",
     "text": [
      "['benz', 'bmw', 'hyundai', 'kia', 'maruthi']\n"
     ]
    }
   ],
   "source": [
    "print(cars)"
   ]
  },
  {
   "cell_type": "code",
   "execution_count": null,
   "id": "9b5bf085",
   "metadata": {},
   "outputs": [],
   "source": [
    "####$$$$$$$***** difference between Sort and Sorted in List method?\n",
    "sort---permanent change in list order\n",
    "sorted--- temporary change in list order, only if the sorted executed we will get the list in alphabetical order but nxt execution it will revert back to original position"
   ]
  },
  {
   "cell_type": "code",
   "execution_count": 48,
   "id": "12fb692a",
   "metadata": {},
   "outputs": [
    {
     "name": "stdout",
     "output_type": "stream",
     "text": [
      "['maruthi', 'kia', 'hyundai', 'bmw', 'benz']\n"
     ]
    }
   ],
   "source": [
    "##  I want to print entire list in reverse order\n",
    "\n",
    "cars.reverse()\n",
    "print(cars)"
   ]
  },
  {
   "cell_type": "code",
   "execution_count": 49,
   "id": "8fcc1356",
   "metadata": {},
   "outputs": [
    {
     "data": {
      "text/plain": [
       "5"
      ]
     },
     "execution_count": 49,
     "metadata": {},
     "output_type": "execute_result"
    }
   ],
   "source": [
    "## req: I want to know the count of no of elements in the list?\n",
    "len(cars)"
   ]
  },
  {
   "cell_type": "code",
   "execution_count": 50,
   "id": "80625ff9",
   "metadata": {},
   "outputs": [
    {
     "data": {
      "text/plain": [
       "5"
      ]
     },
     "execution_count": 50,
     "metadata": {},
     "output_type": "execute_result"
    }
   ],
   "source": [
    "len(cars)"
   ]
  },
  {
   "cell_type": "code",
   "execution_count": 53,
   "id": "e3c2b34a",
   "metadata": {},
   "outputs": [
    {
     "name": "stdout",
     "output_type": "stream",
     "text": [
      "['ravi']\n"
     ]
    }
   ],
   "source": [
    "#Introduction to slicing of lists\n",
    "students=['ravi','abdul','naveen','kumar','ruksana','simran']\n",
    "\n",
    "##  General Syntax of Slicing:\n",
    "\n",
    "#startvalue:stopvalue:stepcount\n",
    "#stop value/last value is always exclusive     \n",
    "\n",
    "##req:  I want to ravi and abdul in the below list output?\n",
    "#print(students[0:1])\n"
   ]
  },
  {
   "cell_type": "code",
   "execution_count": null,
   "id": "917f38c1",
   "metadata": {},
   "outputs": [],
   "source": [
    "#it is giving only Ravi . sice we want to have ravi and abdul we need to write list like this\n",
    "##****stopvalue/lastvalue is always exclusive, if we want to include the stop value increment the index by +1"
   ]
  },
  {
   "cell_type": "code",
   "execution_count": 54,
   "id": "a6a18a66",
   "metadata": {},
   "outputs": [
    {
     "name": "stdout",
     "output_type": "stream",
     "text": [
      "['ravi']\n"
     ]
    }
   ],
   "source": [
    "## req: I want to ravi and abdul in list\n",
    "#print(students[0:1])"
   ]
  },
  {
   "cell_type": "code",
   "execution_count": 55,
   "id": "9775dd69",
   "metadata": {},
   "outputs": [
    {
     "name": "stdout",
     "output_type": "stream",
     "text": [
      "['ravi', 'abdul']\n"
     ]
    }
   ],
   "source": [
    "#print(students[0:2])"
   ]
  },
  {
   "cell_type": "code",
   "execution_count": 56,
   "id": "b2f9c62e",
   "metadata": {},
   "outputs": [
    {
     "name": "stdout",
     "output_type": "stream",
     "text": [
      "['naveen', 'kumar']\n"
     ]
    }
   ],
   "source": [
    "##req: I want to naveen and kumar in below list output?\n",
    "#print(students[2:4])"
   ]
  },
  {
   "cell_type": "code",
   "execution_count": 61,
   "id": "8bbcef51",
   "metadata": {},
   "outputs": [
    {
     "name": "stdout",
     "output_type": "stream",
     "text": [
      "['ravi', 'naveen', 'ruksana']\n"
     ]
    }
   ],
   "source": [
    "#### Alternative list : To get\n",
    "print(students[0:5:2])"
   ]
  },
  {
   "cell_type": "code",
   "execution_count": 62,
   "id": "6cb4cfc5",
   "metadata": {},
   "outputs": [
    {
     "name": "stdout",
     "output_type": "stream",
     "text": [
      "['abdul', 'kumar', 'simran']\n"
     ]
    }
   ],
   "source": [
    "print(students[1:6:2])"
   ]
  },
  {
   "cell_type": "code",
   "execution_count": null,
   "id": "755664ff",
   "metadata": {},
   "outputs": [],
   "source": []
  }
 ],
 "metadata": {
  "kernelspec": {
   "display_name": "Python 3 (ipykernel)",
   "language": "python",
   "name": "python3"
  },
  "language_info": {
   "codemirror_mode": {
    "name": "ipython",
    "version": 3
   },
   "file_extension": ".py",
   "mimetype": "text/x-python",
   "name": "python",
   "nbconvert_exporter": "python",
   "pygments_lexer": "ipython3",
   "version": "3.9.7"
  }
 },
 "nbformat": 4,
 "nbformat_minor": 5
}
